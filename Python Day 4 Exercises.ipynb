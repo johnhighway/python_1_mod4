{
 "cells": [
  {
   "cell_type": "markdown",
   "metadata": {},
   "source": [
    "1. Create a dictionary named pairs with key value pairs of hello and fire, 3 and seven, strong and 45. Print out the dictionary."
   ]
  },
  {
   "cell_type": "code",
   "execution_count": 1,
   "metadata": {},
   "outputs": [
    {
     "name": "stdout",
     "output_type": "stream",
     "text": [
      "{'hello': 'fire', 3: 'seven', 'strong': 45}\n"
     ]
    }
   ],
   "source": [
    "sample_dict = { \"hello\" : \"fire\", 3 : \"seven\", \"strong\" : 45 }\n",
    "print(sample_dict)"
   ]
  },
  {
   "cell_type": "markdown",
   "metadata": {},
   "source": [
    "2. Add welcome and 56 pair into pairs dictionary. Print out the dictionary. "
   ]
  },
  {
   "cell_type": "code",
   "execution_count": 2,
   "metadata": {},
   "outputs": [
    {
     "name": "stdout",
     "output_type": "stream",
     "text": [
      "{'hello': 'fire', 3: 'seven', 'strong': 45, 'welcome': 56}\n"
     ]
    }
   ],
   "source": [
    "sample_dict[\"welcome\"] = 56\n",
    "print(sample_dict)"
   ]
  },
  {
   "cell_type": "markdown",
   "metadata": {},
   "source": [
    "3. Delete one item from the Dictionary. Print deleted item and the dictionary."
   ]
  },
  {
   "cell_type": "code",
   "execution_count": 3,
   "metadata": {},
   "outputs": [
    {
     "name": "stdout",
     "output_type": "stream",
     "text": [
      "45\n",
      "{'hello': 'fire', 3: 'seven', 'welcome': 56}\n"
     ]
    }
   ],
   "source": [
    "item = sample_dict.pop(\"strong\")\n",
    "print(item)\n",
    "print(sample_dict)\n",
    "\n",
    "# or\n",
    "# del sample_dict[\"strong\"]\n",
    "# print(sample_dict)"
   ]
  },
  {
   "cell_type": "markdown",
   "metadata": {},
   "source": [
    "4. Print the value of an item where key is 3 from the dicitonary"
   ]
  },
  {
   "cell_type": "code",
   "execution_count": 5,
   "metadata": {},
   "outputs": [
    {
     "name": "stdout",
     "output_type": "stream",
     "text": [
      "seven\n"
     ]
    }
   ],
   "source": [
    "value = sample_dict[3]\n",
    "print(value) "
   ]
  },
  {
   "cell_type": "markdown",
   "metadata": {},
   "source": [
    "5. Try to find out if the key called hello exist. Print out the key is found if it is there otherwise print out the key is not there."
   ]
  },
  {
   "cell_type": "code",
   "execution_count": 12,
   "metadata": {},
   "outputs": [
    {
     "name": "stdout",
     "output_type": "stream",
     "text": [
      "There is no key \"hellot\".\n"
     ]
    }
   ],
   "source": [
    "key = \"hello\"\n",
    "\n",
    "if key in sample_dict :\n",
    "    print(f\"The value for the key \\\"{key}\\\" is {sample_dict[key]}.\")    \n",
    "else :\n",
    "    print(f\"There is no key \\\"{key}\\\".\")"
   ]
  },
  {
   "cell_type": "markdown",
   "metadata": {},
   "source": [
    "6. Loop through the dictionary and print out each value. "
   ]
  },
  {
   "cell_type": "code",
   "execution_count": 34,
   "metadata": {},
   "outputs": [
    {
     "name": "stdout",
     "output_type": "stream",
     "text": [
      "Value: fire\n",
      "Value: seven\n",
      "Value: 56\n"
     ]
    }
   ],
   "source": [
    "for value in sample_dict.values() :\n",
    "    print(f\"Value: {value}\")"
   ]
  },
  {
   "cell_type": "markdown",
   "metadata": {},
   "source": [
    "7. Loop through the dictionary and print out each key."
   ]
  },
  {
   "cell_type": "code",
   "execution_count": 35,
   "metadata": {},
   "outputs": [
    {
     "name": "stdout",
     "output_type": "stream",
     "text": [
      "Key: hello\n",
      "Key: 3\n",
      "Key: welcome\n"
     ]
    }
   ],
   "source": [
    "for key in sample_dict.keys() :\n",
    "    print(f\"Key: {key}\")"
   ]
  },
  {
   "cell_type": "markdown",
   "metadata": {},
   "source": [
    "8. Loop through the dictionary and print out each key and value pair. "
   ]
  },
  {
   "cell_type": "code",
   "execution_count": 29,
   "metadata": {},
   "outputs": [
    {
     "name": "stdout",
     "output_type": "stream",
     "text": [
      "Key: hello      => value: fire      \n",
      "Key: 3          => value: seven     \n",
      "Key: welcome    => value: 56        \n"
     ]
    }
   ],
   "source": [
    "for key, value in sample_dict.items() :\n",
    "    print(f\"Key: {key:<10} => value: {value:<10}\")"
   ]
  },
  {
   "cell_type": "markdown",
   "metadata": {},
   "source": [
    "9. Make a nested dictionary called parent with 2 children's information: name, age, gender. Print out parent."
   ]
  },
  {
   "cell_type": "code",
   "execution_count": 2,
   "metadata": {},
   "outputs": [
    {
     "name": "stdout",
     "output_type": "stream",
     "text": [
      "{1: {'name': 'Sarah', 'age': 15, 'gender': 'non-binary'}, 2: {'name': 'Jacob', 'age': 17, 'gender': 'male'}}\n"
     ]
    }
   ],
   "source": [
    "parent = {\n",
    "    1 : {\n",
    "        \"name\" : \"Sarah\",\n",
    "        \"age\" : 15,\n",
    "        \"gender\" : \"non-binary\",\n",
    "    },\n",
    "    2 : {\n",
    "        \"name\" : \"Jacob\",\n",
    "        \"age\" : 17,\n",
    "        \"gender\" : \"male\",\n",
    "    }\n",
    "}\n",
    "\n",
    "print(parent)"
   ]
  },
  {
   "cell_type": "markdown",
   "metadata": {},
   "source": [
    "10. Add new child to above dictionary. Print out the name of all children."
   ]
  },
  {
   "cell_type": "code",
   "execution_count": 3,
   "metadata": {},
   "outputs": [
    {
     "name": "stdout",
     "output_type": "stream",
     "text": [
      "Child name: Sarah.\n",
      "Child name: Jacob.\n",
      "Child name: Seo Hye-lin.\n"
     ]
    }
   ],
   "source": [
    "parent[3] = {\n",
    "    \"name\" : \"Seo Hye-lin\",\n",
    "    \"age\" : 27,\n",
    "    \"gender\" : \"female\",\n",
    "}\n",
    "# print(parent)\n",
    "\n",
    "for child in parent :\n",
    "    # name = parent[child][\"name\"]\n",
    "    print(f\"Child name: {parent[child]['name']}.\")"
   ]
  },
  {
   "cell_type": "markdown",
   "metadata": {},
   "source": [
    "11. Create a Test Scores program that gets the name of students and test score from a user. Then, generate a list of students who passed and a list of students who failed where passing test score is 60 or above. "
   ]
  },
  {
   "cell_type": "code",
   "execution_count": 6,
   "metadata": {},
   "outputs": [
    {
     "name": "stdout",
     "output_type": "stream",
     "text": [
      "The Test Scores Program\n",
      "\n",
      "Enter student's name or type 'exit' to quit: exit\n",
      "Good-bye.\n",
      "\n",
      "*** There are no students. ***\n"
     ]
    }
   ],
   "source": [
    "# Initialize variables\n",
    "\n",
    "# The dictionary to store all students\n",
    "student_list = {\n",
    "    \"passed\" : {},\n",
    "    \"failed\" : {},\n",
    "}  \n",
    "\n",
    "print(\"The Test Scores Program\", end=\"\\n\\n\")\n",
    "\n",
    "while True :\n",
    "    userInput = input(\"Enter student's name or type 'exit' to quit: \")\n",
    "    if userInput.lower() == \"exit\" :\n",
    "        print (\"Good-bye.\")\n",
    "        break\n",
    "    else :\n",
    "        student = userInput\n",
    "        if student in student_list[\"passed\"] or student in student_list[\"failed\"] :\n",
    "            print(f\"There is already a student {student} entered, please differentiate.\")\n",
    "            continue\n",
    "        score = input(\"Enter the student's score: \")\n",
    "        try :\n",
    "            score = float(score)\n",
    "        except :\n",
    "            print(\"Please enter a numeric value.\")\n",
    "            \n",
    "        if score >= 60 :\n",
    "            student_list[\"passed\"][student] = score\n",
    "        else :\n",
    "            student_list[\"failed\"][student] = score\n",
    "\n",
    "if len(student_list[\"passed\"] and len(student_list[\"failed\"])) == 0 :\n",
    "    print(\"\\n*** There are no students. ***\")\n",
    "else :\n",
    "    print(\"\\nStudents who passed:\")\n",
    "    for student in student_list[\"passed\"].keys() :\n",
    "        print(f\"\\t+ {student}\")\n",
    "    print(\"\\nStudents who failed:\")\n",
    "    for student in student_list[\"failed\"].keys() :\n",
    "        print(f\"\\t- {student}\")"
   ]
  },
  {
   "cell_type": "markdown",
   "metadata": {},
   "source": [
    "12. Create a Word Counter program that gets a string of text from a user and then counts the number of times a word occrs in the string. \n",
    "\n",
    "The output should look something like this:\n",
    "\n",
    "    The Word Counter Program\n",
    "    \n",
    "    Enter a text string: \n",
    "    Humpty Dumpty sat on a wall, Humpty Dumpty had a great fall. All the king’s horses and all the king’s men couldn’t put Humpty together again.\n",
    "\n",
    "    a : 2\n",
    "    again : 1\n",
    "    all : 2\n",
    "    and : 1\n",
    "    couldn’t : 1\n",
    "    dumpty : 2\n",
    "    fall : 1\n",
    "    great : 1\n",
    "    had : 1\n",
    "    horses : 1\n",
    "    humpty : 3\n",
    "    king’s : 2\n",
    "    men : 1\n",
    "    on : 1\n",
    "    put : 1\n",
    "    sat : 1\n",
    "    the : 2\n",
    "    together : 1\n",
    "    wall : 1\n",
    "\n",
    "    There were total 26 words in the text string   "
   ]
  },
  {
   "cell_type": "code",
   "execution_count": 78,
   "metadata": {},
   "outputs": [
    {
     "name": "stdout",
     "output_type": "stream",
     "text": [
      "The Word Counter Program\n",
      "\n",
      "Enter a text string:\n",
      "Humpty Dumpty sat on a wall, Humpty Dumpty had a great fall. All the king’s horses and all the king’s men couldn’t put Humpty together again.\n",
      "\n",
      "a : 2\n",
      "again : 1\n",
      "all : 2\n",
      "and : 1\n",
      "couldn’t : 1\n",
      "dumpty : 2\n",
      "fall : 1\n",
      "great : 1\n",
      "had : 1\n",
      "horses : 1\n",
      "humpty : 3\n",
      "king’s : 2\n",
      "men : 1\n",
      "on : 1\n",
      "put : 1\n",
      "sat : 1\n",
      "the : 2\n",
      "together : 1\n",
      "wall : 1\n",
      "\n",
      "There were total 26 words in the text string\n"
     ]
    }
   ],
   "source": [
    "# Initialize variables\n",
    "wordcount = {}     # The dictionary that will keep a tally of each word\n",
    "num_words = 0      # The total number of words in the string\n",
    "\n",
    "print(\"The Word Counter Program\", end=\"\\n\\n\")\n",
    "\n",
    "string = input(\"Enter a text string:\\n\")\n",
    "wordlist = string.lower().split(\" \") # This splits the string into individual words using a blank space as\n",
    "                                     # separator.\n",
    "# print(wordlist)\n",
    "for word in wordlist :\n",
    "    word = word.split(',')[0]    # This filters out the commas following the word\n",
    "    word = word.split('.')[0]    # This filters out the period following the word\n",
    "    if word in wordcount :\n",
    "        wordcount[word] += 1\n",
    "    else :\n",
    "        wordcount[word] = 1\n",
    "    num_words += 1\n",
    "\n",
    "print()\n",
    "for word in sorted(wordcount) :\n",
    "    print(f\"{word} : {wordcount[word]}\")\n",
    "\n",
    "print(f\"\\nThere were total {num_words} words in the text string\")"
   ]
  },
  {
   "cell_type": "code",
   "execution_count": null,
   "metadata": {},
   "outputs": [],
   "source": []
  }
 ],
 "metadata": {
  "kernelspec": {
   "display_name": "Python 3",
   "language": "python",
   "name": "python3"
  },
  "language_info": {
   "codemirror_mode": {
    "name": "ipython",
    "version": 3
   },
   "file_extension": ".py",
   "mimetype": "text/x-python",
   "name": "python",
   "nbconvert_exporter": "python",
   "pygments_lexer": "ipython3",
   "version": "3.8.3"
  }
 },
 "nbformat": 4,
 "nbformat_minor": 4
}
